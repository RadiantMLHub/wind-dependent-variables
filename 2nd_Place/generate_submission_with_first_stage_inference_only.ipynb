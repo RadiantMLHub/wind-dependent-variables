{
 "cells": [
  {
   "cell_type": "markdown",
   "metadata": {},
   "source": [
    "# Test Inference from first stage CNN models"
   ]
  },
  {
   "cell_type": "markdown",
   "metadata": {},
   "source": [
    "## ResNet50 1 time step image"
   ]
  },
  {
   "cell_type": "code",
   "execution_count": 1,
   "metadata": {
    "scrolled": true
   },
   "outputs": [
    {
     "name": "stdout",
     "output_type": "stream",
     "text": [
      "100%|███████████████████████████████████████| 2774/2774 [06:42<00:00,  6.90it/s]\n",
      "100%|███████████████████████████████████████| 2774/2774 [06:51<00:00,  6.74it/s]\n",
      "100%|███████████████████████████████████████| 2774/2774 [06:38<00:00,  6.96it/s]\n",
      "100%|███████████████████████████████████████| 2774/2774 [06:44<00:00,  6.86it/s]\n",
      "100%|███████████████████████████████████████| 2774/2774 [06:42<00:00,  6.89it/s]\n",
      "100%|███████████████████████████████████████| 2774/2774 [06:36<00:00,  6.99it/s]\n",
      "100%|███████████████████████████████████████| 2774/2774 [06:38<00:00,  6.96it/s]\n",
      "100%|███████████████████████████████████████| 2774/2774 [06:44<00:00,  6.86it/s]\n",
      "100%|███████████████████████████████████████| 2774/2774 [06:43<00:00,  6.87it/s]\n",
      "100%|███████████████████████████████████████| 2774/2774 [06:44<00:00,  6.85it/s]\n",
      "  image_id storm_id  relative_time  ocean       pred\n",
      "0  acd_123      acd         304198      1  25.851803\n",
      "1  acd_124      acd         305998      1  26.178967\n",
      "2  acd_125      acd         307798      1  26.679523\n",
      "3  acd_126      acd         309598      1  26.656534\n",
      "4  acd_127      acd         313198      1  26.124140\n",
      "100%|███████████████████████████████████████| 2774/2774 [06:42<00:00,  6.90it/s]\n",
      "100%|███████████████████████████████████████| 2774/2774 [06:47<00:00,  6.81it/s]\n",
      "100%|███████████████████████████████████████| 2774/2774 [06:38<00:00,  6.97it/s]\n",
      "100%|███████████████████████████████████████| 2774/2774 [06:49<00:00,  6.78it/s]\n",
      "100%|███████████████████████████████████████| 2774/2774 [06:41<00:00,  6.90it/s]\n",
      "100%|███████████████████████████████████████| 2774/2774 [06:37<00:00,  6.98it/s]\n",
      "100%|███████████████████████████████████████| 2774/2774 [06:42<00:00,  6.89it/s]\n",
      "100%|███████████████████████████████████████| 2774/2774 [06:45<00:00,  6.85it/s]\n",
      "100%|███████████████████████████████████████| 2774/2774 [06:41<00:00,  6.91it/s]\n",
      "100%|███████████████████████████████████████| 2774/2774 [06:39<00:00,  6.95it/s]\n"
     ]
    }
   ],
   "source": [
    "!python3 conv_inference.py #output folder -> resnet50_models"
   ]
  },
  {
   "cell_type": "markdown",
   "metadata": {},
   "source": [
    "## ResNet50 with 3 time step images"
   ]
  },
  {
   "cell_type": "code",
   "execution_count": 2,
   "metadata": {},
   "outputs": [
    {
     "name": "stdout",
     "output_type": "stream",
     "text": [
      "100%|███████████████████████████████████████| 2774/2774 [06:33<00:00,  7.05it/s]\n",
      "100%|███████████████████████████████████████| 2774/2774 [06:29<00:00,  7.13it/s]\n",
      "100%|███████████████████████████████████████| 2774/2774 [06:23<00:00,  7.23it/s]\n",
      "100%|███████████████████████████████████████| 2774/2774 [06:24<00:00,  7.22it/s]\n",
      "100%|███████████████████████████████████████| 2774/2774 [06:24<00:00,  7.22it/s]\n",
      "100%|███████████████████████████████████████| 2774/2774 [06:24<00:00,  7.22it/s]\n",
      "100%|███████████████████████████████████████| 2774/2774 [06:24<00:00,  7.21it/s]\n",
      "100%|███████████████████████████████████████| 2774/2774 [06:24<00:00,  7.21it/s]\n",
      "100%|███████████████████████████████████████| 2774/2774 [06:24<00:00,  7.21it/s]\n",
      "100%|███████████████████████████████████████| 2774/2774 [06:25<00:00,  7.20it/s]\n",
      "100%|███████████████████████████████████████| 2774/2774 [06:25<00:00,  7.20it/s]\n",
      "100%|███████████████████████████████████████| 2774/2774 [06:22<00:00,  7.25it/s]\n",
      "100%|███████████████████████████████████████| 2774/2774 [06:23<00:00,  7.23it/s]\n",
      "100%|███████████████████████████████████████| 2774/2774 [06:23<00:00,  7.23it/s]\n",
      "100%|███████████████████████████████████████| 2774/2774 [06:22<00:00,  7.25it/s]\n",
      "100%|███████████████████████████████████████| 2774/2774 [06:22<00:00,  7.24it/s]\n",
      "100%|███████████████████████████████████████| 2774/2774 [06:25<00:00,  7.20it/s]\n",
      "100%|███████████████████████████████████████| 2774/2774 [06:23<00:00,  7.24it/s]\n",
      "100%|███████████████████████████████████████| 2774/2774 [06:23<00:00,  7.23it/s]\n",
      "100%|███████████████████████████████████████| 2774/2774 [06:23<00:00,  7.23it/s]\n",
      "  image_id storm_id  relative_time  ocean       pred\n",
      "0  acd_123      acd         304198      1  27.654221\n",
      "1  acd_124      acd         305998      1  26.114935\n",
      "2  acd_125      acd         307798      1  26.342127\n",
      "3  acd_126      acd         309598      1  26.790720\n",
      "4  acd_127      acd         313198      1  27.407394\n"
     ]
    }
   ],
   "source": [
    "!python3 prepare_dataset_v1.py\n",
    "!python3 3ts_conv_inference.py #output folder -> 3ts_imgs_resnet50_models_10folds"
   ]
  },
  {
   "cell_type": "markdown",
   "metadata": {},
   "source": [
    "## ResNet50 with 6 time step images"
   ]
  },
  {
   "cell_type": "code",
   "execution_count": 3,
   "metadata": {},
   "outputs": [
    {
     "name": "stdout",
     "output_type": "stream",
     "text": [
      "100%|███████████████████████████████████████| 2774/2774 [12:58<00:00,  3.56it/s]\n",
      "100%|███████████████████████████████████████| 2774/2774 [13:32<00:00,  3.41it/s]\n",
      "100%|███████████████████████████████████████| 2774/2774 [13:36<00:00,  3.40it/s]\n",
      "100%|███████████████████████████████████████| 2774/2774 [12:52<00:00,  3.59it/s]\n",
      "100%|███████████████████████████████████████| 2774/2774 [12:57<00:00,  3.57it/s]\n",
      "  image_id storm_id  relative_time  ocean       pred\n",
      "0  acd_123      acd         304198      1  29.244305\n",
      "1  acd_124      acd         305998      1  28.051188\n",
      "2  acd_125      acd         307798      1  27.373144\n",
      "3  acd_126      acd         309598      1  27.894547\n",
      "4  acd_127      acd         313198      1  27.050720\n"
     ]
    }
   ],
   "source": [
    "!python3 prepare_dataset_v2.py --time_steps 6\n",
    "!python3 6ts_conv_inference.py --ch_arrangement 0 #output folder -> 6ts_imgs_time_aug_resnet50_models\n",
    "!python3 6ts_conv_inference.py --ch_arrangement 1 #output folder -> 6ts_imgs_time_aug_resnet50_models_021\n",
    "!python3 6ts_conv_inference.py --ch_arrangement 2 #output folder -> 6ts_imgs_time_aug_resnet50_models_102\n",
    "!python3 6ts_conv_inference.py --ch_arrangement 3 #output folder -> 6ts_imgs_time_aug_resnet50_models_120\n",
    "!python3 6ts_conv_inference.py --ch_arrangement 4 #output folder -> 6ts_imgs_time_aug_resnet50_models_201\n",
    "!python3 6ts_conv_inference.py --ch_arrangement 5 #output folder -> 6ts_imgs_time_aug_resnet50_models_210"
   ]
  },
  {
   "cell_type": "markdown",
   "metadata": {},
   "source": [
    "## ResNet50 with 9 time steps images"
   ]
  },
  {
   "cell_type": "code",
   "execution_count": 4,
   "metadata": {},
   "outputs": [
    {
     "name": "stdout",
     "output_type": "stream",
     "text": [
      "100%|███████████████████████████████████████| 2774/2774 [19:35<00:00,  2.36it/s]\n",
      "100%|███████████████████████████████████████| 2774/2774 [19:27<00:00,  2.38it/s]\n",
      "100%|███████████████████████████████████████| 2774/2774 [19:06<00:00,  2.42it/s]\n",
      "100%|███████████████████████████████████████| 2774/2774 [19:04<00:00,  2.42it/s]\n",
      "100%|███████████████████████████████████████| 2774/2774 [19:13<00:00,  2.41it/s]\n",
      "  image_id storm_id  relative_time  ocean       pred\n",
      "0  acd_123      acd         304198      1  29.617840\n",
      "1  acd_124      acd         305998      1  29.271606\n",
      "2  acd_125      acd         307798      1  29.381027\n",
      "3  acd_126      acd         309598      1  29.097153\n",
      "4  acd_127      acd         313198      1  28.357895\n"
     ]
    }
   ],
   "source": [
    "!python3 prepare_dataset_v2.py --time_steps 9\n",
    "!python3 9ts_conv_inference.py #output folder -> 9ts_imgs_time_aug_resnet50_models"
   ]
  },
  {
   "cell_type": "markdown",
   "metadata": {},
   "source": [
    "## ResNet18 with 12 time steps images"
   ]
  },
  {
   "cell_type": "code",
   "execution_count": null,
   "metadata": {},
   "outputs": [],
   "source": [
    "!python3 prepare_dataset_v2.py --time_steps 12\n",
    "!python3 12ts_conv_inference.py #output folder -> 12ts_imgs_resnet18_models"
   ]
  },
  {
   "cell_type": "markdown",
   "metadata": {},
   "source": [
    "## ResNet50 with 6 time steps images, 2 space"
   ]
  },
  {
   "cell_type": "code",
   "execution_count": 5,
   "metadata": {},
   "outputs": [
    {
     "name": "stdout",
     "output_type": "stream",
     "text": [
      "(44377, 224, 224, 6)\n",
      "100%|███████████████████████████████████████| 2774/2774 [12:47<00:00,  3.62it/s]\n",
      "100%|███████████████████████████████████████| 2774/2774 [13:26<00:00,  3.44it/s]\n",
      "100%|███████████████████████████████████████| 2774/2774 [13:36<00:00,  3.40it/s]\n",
      "100%|███████████████████████████████████████| 2774/2774 [13:00<00:00,  3.55it/s]\n",
      "100%|███████████████████████████████████████| 2774/2774 [12:54<00:00,  3.58it/s]\n",
      "  image_id storm_id  relative_time  ocean       pred\n",
      "0  acd_123      acd         304198      1  27.915192\n",
      "1  acd_124      acd         305998      1  27.608622\n",
      "2  acd_125      acd         307798      1  27.298670\n",
      "3  acd_126      acd         309598      1  26.699234\n",
      "4  acd_127      acd         313198      1  26.777182\n"
     ]
    }
   ],
   "source": [
    "!python3 prepare_dataset_v3.py --step_size 2\n",
    "!python3 6ts_2space_conv_inference.py #output folder -> 6ts_2space_imgs_time_aug_resnet50_models"
   ]
  },
  {
   "cell_type": "markdown",
   "metadata": {},
   "source": [
    "## ResNet50 with 6 time steps images, 3 space"
   ]
  },
  {
   "cell_type": "code",
   "execution_count": 6,
   "metadata": {},
   "outputs": [
    {
     "name": "stdout",
     "output_type": "stream",
     "text": [
      "(44377, 224, 224, 6)\n",
      "100%|███████████████████████████████████████| 2774/2774 [12:55<00:00,  3.58it/s]\n",
      "100%|███████████████████████████████████████| 2774/2774 [12:51<00:00,  3.60it/s]\n",
      "100%|███████████████████████████████████████| 2774/2774 [13:06<00:00,  3.53it/s]\n",
      "100%|███████████████████████████████████████| 2774/2774 [13:03<00:00,  3.54it/s]\n",
      "100%|███████████████████████████████████████| 2774/2774 [12:53<00:00,  3.59it/s]\n",
      "  image_id storm_id  relative_time  ocean       pred\n",
      "0  acd_123      acd         304198      1  28.812504\n",
      "1  acd_124      acd         305998      1  27.962992\n",
      "2  acd_125      acd         307798      1  27.577747\n",
      "3  acd_126      acd         309598      1  27.106609\n",
      "4  acd_127      acd         313198      1  26.994450\n"
     ]
    }
   ],
   "source": [
    "!python3 prepare_dataset_v3.py --step_size 3\n",
    "!python3 6ts_3space_conv_inference.py #output folder -> 6ts_3space_imgs_time_aug_resnet50_models"
   ]
  },
  {
   "cell_type": "markdown",
   "metadata": {},
   "source": [
    "## ResNet50 with 6 time steps images, 4 space"
   ]
  },
  {
   "cell_type": "code",
   "execution_count": 7,
   "metadata": {},
   "outputs": [
    {
     "name": "stdout",
     "output_type": "stream",
     "text": [
      "(44377, 224, 224, 6)\n",
      "100%|███████████████████████████████████████| 2774/2774 [12:58<00:00,  3.56it/s]\n",
      "100%|███████████████████████████████████████| 2774/2774 [12:50<00:00,  3.60it/s]\n",
      "100%|███████████████████████████████████████| 2774/2774 [12:44<00:00,  3.63it/s]\n",
      "100%|███████████████████████████████████████| 2774/2774 [12:44<00:00,  3.63it/s]\n",
      "100%|███████████████████████████████████████| 2774/2774 [12:45<00:00,  3.63it/s]\n",
      "  image_id storm_id  relative_time  ocean       pred\n",
      "0  acd_123      acd         304198      1  28.338797\n",
      "1  acd_124      acd         305998      1  27.999121\n",
      "2  acd_125      acd         307798      1  28.660446\n",
      "3  acd_126      acd         309598      1  26.913143\n",
      "4  acd_127      acd         313198      1  26.399006\n"
     ]
    }
   ],
   "source": [
    "!python3 prepare_dataset_v3.py --step_size 4\n",
    "!python3 6ts_4space_conv_inference.py #output folder -> 6ts_4space_imgs_time_aug_resnet50_models"
   ]
  },
  {
   "cell_type": "markdown",
   "metadata": {},
   "source": [
    "## ResNet50 with 6 time steps images, 5 space"
   ]
  },
  {
   "cell_type": "code",
   "execution_count": 8,
   "metadata": {},
   "outputs": [
    {
     "name": "stdout",
     "output_type": "stream",
     "text": [
      "(44377, 224, 224, 6)\n",
      "100%|███████████████████████████████████████| 2774/2774 [12:44<00:00,  3.63it/s]\n",
      "100%|███████████████████████████████████████| 2774/2774 [12:43<00:00,  3.63it/s]\n",
      "100%|███████████████████████████████████████| 2774/2774 [12:44<00:00,  3.63it/s]\n",
      "100%|███████████████████████████████████████| 2774/2774 [12:43<00:00,  3.63it/s]\n",
      "100%|███████████████████████████████████████| 2774/2774 [12:44<00:00,  3.63it/s]\n",
      "  image_id storm_id  relative_time  ocean       pred\n",
      "0  acd_123      acd         304198      1  28.240540\n",
      "1  acd_124      acd         305998      1  27.787449\n",
      "2  acd_125      acd         307798      1  27.494678\n",
      "3  acd_126      acd         309598      1  26.843700\n",
      "4  acd_127      acd         313198      1  27.724493\n"
     ]
    }
   ],
   "source": [
    "!python3 prepare_dataset_v3.py --step_size 5\n",
    "!python3 6ts_5space_conv_inference.py #output folder -> 6ts_5space_imgs_time_aug_resnet50_models"
   ]
  },
  {
   "cell_type": "markdown",
   "metadata": {},
   "source": [
    "## ResNet50 with 6 time steps images, 6 space"
   ]
  },
  {
   "cell_type": "code",
   "execution_count": null,
   "metadata": {},
   "outputs": [
    {
     "name": "stdout",
     "output_type": "stream",
     "text": [
      "(44377, 224, 224, 6)\n",
      "100%|███████████████████████████████████████| 2774/2774 [13:48<00:00,  3.35it/s]\n",
      "100%|███████████████████████████████████████| 2774/2774 [12:56<00:00,  3.57it/s]\n",
      "100%|███████████████████████████████████████| 2774/2774 [13:52<00:00,  3.33it/s]\n",
      "100%|███████████████████████████████████████| 2774/2774 [14:41<00:00,  3.15it/s]\n",
      " 96%|█████████████████████████████████████▎ | 2658/2774 [13:56<00:37,  3.07it/s]"
     ]
    }
   ],
   "source": [
    "!python3 prepare_dataset_v3.py --step_size 6\n",
    "!python3 6ts_6space_conv_inference.py #output folder -> 6ts_6space_imgs_time_aug_resnet50_models"
   ]
  },
  {
   "cell_type": "markdown",
   "metadata": {},
   "source": [
    "# Training second stage stacking models"
   ]
  },
  {
   "cell_type": "markdown",
   "metadata": {},
   "source": [
    "## CNN "
   ]
  },
  {
   "cell_type": "code",
   "execution_count": null,
   "metadata": {},
   "outputs": [],
   "source": [
    "!python3 ts_cnn.py --input_cnn_idx 0\n",
    "!python3 ts_cnn.py --input_cnn_idx 1\n",
    "!python3 ts_cnn.py --input_cnn_idx 2\n",
    "!python3 ts_cnn.py --input_cnn_idx 3\n",
    "!python3 ts_cnn.py --input_cnn_idx 4\n",
    "!python3 ts_cnn.py --input_cnn_idx 5\n",
    "!python3 ts_cnn.py --input_cnn_idx 6\n",
    "!python3 ts_cnn.py --input_cnn_idx 7\n",
    "!python3 ts_cnn.py --input_cnn_idx 8\n",
    "!python3 ts_cnn.py --input_cnn_idx 9\n",
    "!python3 ts_cnn.py --input_cnn_idx 10\n",
    "!python3 ts_cnn.py --input_cnn_idx 11\n",
    "!python3 ts_cnn.py --input_cnn_idx 12\n",
    "!python3 ts_cnn.py --input_cnn_idx 13\n",
    "!python3 ts_cnn.py --input_cnn_idx 14"
   ]
  },
  {
   "cell_type": "markdown",
   "metadata": {},
   "source": [
    "## MLP"
   ]
  },
  {
   "cell_type": "code",
   "execution_count": null,
   "metadata": {},
   "outputs": [],
   "source": [
    "!python3 mlp.py --input_cnn_idx 0\n",
    "!python3 mlp.py --input_cnn_idx 1\n",
    "!python3 mlp.py --input_cnn_idx 2\n",
    "!python3 mlp.py --input_cnn_idx 3\n",
    "!python3 mlp.py --input_cnn_idx 4\n",
    "!python3 mlp.py --input_cnn_idx 5\n",
    "!python3 mlp.py --input_cnn_idx 6\n",
    "!python3 mlp.py --input_cnn_idx 7\n",
    "!python3 mlp.py --input_cnn_idx 8\n",
    "!python3 mlp.py --input_cnn_idx 9\n",
    "!python3 mlp.py --input_cnn_idx 10\n",
    "!python3 mlp.py --input_cnn_idx 11\n",
    "!python3 mlp.py --input_cnn_idx 12\n",
    "!python3 mlp.py --input_cnn_idx 13\n",
    "!python3 mlp.py --input_cnn_idx 14"
   ]
  },
  {
   "cell_type": "markdown",
   "metadata": {},
   "source": [
    "## LSTM"
   ]
  },
  {
   "cell_type": "code",
   "execution_count": null,
   "metadata": {},
   "outputs": [],
   "source": [
    "!python3 lstm.py --input_cnn_idx 0\n",
    "!python3 lstm.py --input_cnn_idx 1\n",
    "!python3 lstm.py --input_cnn_idx 2\n",
    "!python3 lstm.py --input_cnn_idx 3\n",
    "!python3 lstm.py --input_cnn_idx 4\n",
    "!python3 lstm.py --input_cnn_idx 5\n",
    "!python3 lstm.py --input_cnn_idx 6\n",
    "!python3 lstm.py --input_cnn_idx 7\n",
    "!python3 lstm.py --input_cnn_idx 8\n",
    "!python3 lstm.py --input_cnn_idx 9\n",
    "!python3 lstm.py --input_cnn_idx 10\n",
    "!python3 lstm.py --input_cnn_idx 11\n",
    "!python3 lstm.py --input_cnn_idx 12\n",
    "!python3 lstm.py --input_cnn_idx 13\n",
    "!python3 lstm.py --input_cnn_idx 14"
   ]
  },
  {
   "cell_type": "markdown",
   "metadata": {},
   "source": [
    "## GRU"
   ]
  },
  {
   "cell_type": "code",
   "execution_count": null,
   "metadata": {},
   "outputs": [],
   "source": [
    "!python3 gru.py --input_cnn_idx 0\n",
    "!python3 gru.py --input_cnn_idx 1\n",
    "!python3 gru.py --input_cnn_idx 2\n",
    "!python3 gru.py --input_cnn_idx 3\n",
    "!python3 gru.py --input_cnn_idx 4\n",
    "!python3 gru.py --input_cnn_idx 5\n",
    "!python3 gru.py --input_cnn_idx 6\n",
    "!python3 gru.py --input_cnn_idx 7\n",
    "!python3 gru.py --input_cnn_idx 8\n",
    "!python3 gru.py --input_cnn_idx 9\n",
    "!python3 gru.py --input_cnn_idx 10\n",
    "!python3 gru.py --input_cnn_idx 11\n",
    "!python3 gru.py --input_cnn_idx 12\n",
    "!python3 gru.py --input_cnn_idx 13\n",
    "!python3 gru.py --input_cnn_idx 14"
   ]
  },
  {
   "cell_type": "markdown",
   "metadata": {},
   "source": [
    "## Transformer"
   ]
  },
  {
   "cell_type": "code",
   "execution_count": null,
   "metadata": {},
   "outputs": [],
   "source": [
    "!python3 ts_transformer.py --input_cnn_idx 0\n",
    "!python3 ts_transformer.py --input_cnn_idx 1\n",
    "!python3 ts_transformer.py --input_cnn_idx 2\n",
    "!python3 ts_transformer.py --input_cnn_idx 3\n",
    "!python3 ts_transformer.py --input_cnn_idx 4\n",
    "!python3 ts_transformer.py --input_cnn_idx 5\n",
    "!python3 ts_transformer.py --input_cnn_idx 6\n",
    "!python3 ts_transformer.py --input_cnn_idx 7\n",
    "!python3 ts_transformer.py --input_cnn_idx 8\n",
    "!python3 ts_transformer.py --input_cnn_idx 9\n",
    "!python3 ts_transformer.py --input_cnn_idx 10\n",
    "!python3 ts_transformer.py --input_cnn_idx 11\n",
    "!python3 ts_transformer.py --input_cnn_idx 12\n",
    "!python3 ts_transformer.py --input_cnn_idx 13\n",
    "!python3 ts_transformer.py --input_cnn_idx 14"
   ]
  },
  {
   "cell_type": "markdown",
   "metadata": {},
   "source": [
    "## Linear Regression"
   ]
  },
  {
   "cell_type": "code",
   "execution_count": null,
   "metadata": {},
   "outputs": [],
   "source": [
    "!python3 linear_reg.py --input_cnn_idx 0\n",
    "!python3 linear_reg.py --input_cnn_idx 1\n",
    "!python3 linear_reg.py --input_cnn_idx 2\n",
    "!python3 linear_reg.py --input_cnn_idx 3\n",
    "!python3 linear_reg.py --input_cnn_idx 4\n",
    "!python3 linear_reg.py --input_cnn_idx 5\n",
    "!python3 linear_reg.py --input_cnn_idx 6\n",
    "!python3 linear_reg.py --input_cnn_idx 7\n",
    "!python3 linear_reg.py --input_cnn_idx 8\n",
    "!python3 linear_reg.py --input_cnn_idx 9\n",
    "!python3 linear_reg.py --input_cnn_idx 10\n",
    "!python3 linear_reg.py --input_cnn_idx 11\n",
    "!python3 linear_reg.py --input_cnn_idx 12\n",
    "!python3 linear_reg.py --input_cnn_idx 13\n",
    "!python3 linear_reg.py --input_cnn_idx 14"
   ]
  },
  {
   "cell_type": "markdown",
   "metadata": {},
   "source": [
    "## Decision Tree"
   ]
  },
  {
   "cell_type": "code",
   "execution_count": null,
   "metadata": {},
   "outputs": [],
   "source": [
    "!python3 dt.py --input_cnn_idx 0\n",
    "!python3 dt.py --input_cnn_idx 1\n",
    "!python3 dt.py --input_cnn_idx 2\n",
    "!python3 dt.py --input_cnn_idx 3\n",
    "!python3 dt.py --input_cnn_idx 4\n",
    "!python3 dt.py --input_cnn_idx 5\n",
    "!python3 dt.py --input_cnn_idx 6\n",
    "!python3 dt.py --input_cnn_idx 7\n",
    "!python3 dt.py --input_cnn_idx 8\n",
    "!python3 dt.py --input_cnn_idx 9\n",
    "!python3 dt.py --input_cnn_idx 10\n",
    "!python3 dt.py --input_cnn_idx 11\n",
    "!python3 dt.py --input_cnn_idx 12\n",
    "!python3 dt.py --input_cnn_idx 13\n",
    "!python3 dt.py --input_cnn_idx 14"
   ]
  },
  {
   "cell_type": "markdown",
   "metadata": {},
   "source": [
    "## Xgboost"
   ]
  },
  {
   "cell_type": "code",
   "execution_count": null,
   "metadata": {},
   "outputs": [],
   "source": [
    "!python3 xgb_Bulldozer.py"
   ]
  },
  {
   "cell_type": "markdown",
   "metadata": {},
   "source": [
    "# Third stage model"
   ]
  },
  {
   "cell_type": "code",
   "execution_count": null,
   "metadata": {},
   "outputs": [],
   "source": [
    "!python3 es_ensemble.py"
   ]
  }
 ],
 "metadata": {
  "kernelspec": {
   "display_name": "Python 3",
   "language": "python",
   "name": "python3"
  },
  "language_info": {
   "codemirror_mode": {
    "name": "ipython",
    "version": 3
   },
   "file_extension": ".py",
   "mimetype": "text/x-python",
   "name": "python",
   "nbconvert_exporter": "python",
   "pygments_lexer": "ipython3",
   "version": "3.7.6"
  }
 },
 "nbformat": 4,
 "nbformat_minor": 4
}
