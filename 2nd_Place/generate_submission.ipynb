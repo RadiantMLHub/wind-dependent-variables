{
 "cells": [
  {
   "cell_type": "markdown",
   "metadata": {},
   "source": [
    "# Training first stage CNN models"
   ]
  },
  {
   "cell_type": "markdown",
   "metadata": {},
   "source": [
    "## ResNet50 1 time step image"
   ]
  },
  {
   "cell_type": "code",
   "execution_count": null,
   "metadata": {
    "scrolled": true
   },
   "outputs": [],
   "source": [
    "!python3 conv.py #output folder -> resnet50_models"
   ]
  },
  {
   "cell_type": "markdown",
   "metadata": {},
   "source": [
    "## ResNet50 with 3 time step images"
   ]
  },
  {
   "cell_type": "code",
   "execution_count": null,
   "metadata": {},
   "outputs": [],
   "source": [
    "!python3 prepare_dataset_v1.py\n",
    "!python3 3ts_conv.py #output folder -> 3ts_imgs_resnet50_models_10folds"
   ]
  },
  {
   "cell_type": "markdown",
   "metadata": {},
   "source": [
    "## ResNet50 with 6 time step images"
   ]
  },
  {
   "cell_type": "code",
   "execution_count": null,
   "metadata": {},
   "outputs": [],
   "source": [
    "!python3 prepare_dataset_v2.py --time_steps 6\n",
    "!python3 6ts_conv.py --ch_arrangement 0 #output folder -> 6ts_imgs_time_aug_resnet50_models\n",
    "!python3 6ts_conv.py --ch_arrangement 1 #output folder -> 6ts_imgs_time_aug_resnet50_models_021\n",
    "!python3 6ts_conv.py --ch_arrangement 2 #output folder -> 6ts_imgs_time_aug_resnet50_models_102\n",
    "!python3 6ts_conv.py --ch_arrangement 3 #output folder -> 6ts_imgs_time_aug_resnet50_models_120\n",
    "!python3 6ts_conv.py --ch_arrangement 4 #output folder -> 6ts_imgs_time_aug_resnet50_models_201\n",
    "!python3 6ts_conv.py --ch_arrangement 5 #output folder -> 6ts_imgs_time_aug_resnet50_models_210"
   ]
  },
  {
   "cell_type": "markdown",
   "metadata": {},
   "source": [
    "## ResNet50 with 9 time steps images"
   ]
  },
  {
   "cell_type": "code",
   "execution_count": null,
   "metadata": {},
   "outputs": [],
   "source": [
    "!python3 prepare_dataset_v2.py --time_steps 9\n",
    "!python3 9ts_conv.py #output folder -> 9ts_imgs_time_aug_resnet50_models"
   ]
  },
  {
   "cell_type": "markdown",
   "metadata": {},
   "source": [
    "## ResNet18 with 12 time steps images"
   ]
  },
  {
   "cell_type": "code",
   "execution_count": null,
   "metadata": {},
   "outputs": [],
   "source": [
    "!python3 prepare_dataset_v2.py --time_steps 12\n",
    "!python3 12ts_conv.py #output folder -> 12ts_imgs_resnet18_models\n",
    "!python3 12ts_conv_inference.py"
   ]
  },
  {
   "cell_type": "markdown",
   "metadata": {},
   "source": [
    "## ResNet50 with 6 time steps images, 2 space"
   ]
  },
  {
   "cell_type": "code",
   "execution_count": null,
   "metadata": {},
   "outputs": [],
   "source": [
    "!python3 prepare_dataset_v3.py --step_size 2\n",
    "!python3 6ts_2space_conv.py #output folder -> 6ts_2space_imgs_time_aug_resnet50_models"
   ]
  },
  {
   "cell_type": "markdown",
   "metadata": {},
   "source": [
    "## ResNet50 with 6 time steps images, 3 space"
   ]
  },
  {
   "cell_type": "code",
   "execution_count": null,
   "metadata": {},
   "outputs": [],
   "source": [
    "!python3 prepare_dataset_v3.py --step_size 3\n",
    "!python3 6ts_3space_conv.py #output folder -> 6ts_3space_imgs_time_aug_resnet50_models"
   ]
  },
  {
   "cell_type": "markdown",
   "metadata": {},
   "source": [
    "## ResNet50 with 6 time steps images, 4 space"
   ]
  },
  {
   "cell_type": "code",
   "execution_count": null,
   "metadata": {},
   "outputs": [],
   "source": [
    "!python3 prepare_dataset_v3.py --step_size 4\n",
    "!python3 6ts_4space_conv.py #output folder -> 6ts_4space_imgs_time_aug_resnet50_models"
   ]
  },
  {
   "cell_type": "markdown",
   "metadata": {},
   "source": [
    "## ResNet50 with 6 time steps images, 5 space"
   ]
  },
  {
   "cell_type": "code",
   "execution_count": null,
   "metadata": {},
   "outputs": [],
   "source": [
    "!python3 prepare_dataset_v3.py --step_size 5\n",
    "!python3 6ts_5space_conv.py #output folder -> 6ts_5space_imgs_time_aug_resnet50_models"
   ]
  },
  {
   "cell_type": "markdown",
   "metadata": {},
   "source": [
    "## ResNet50 with 6 time steps images, 6 space"
   ]
  },
  {
   "cell_type": "code",
   "execution_count": null,
   "metadata": {},
   "outputs": [],
   "source": [
    "!python3 prepare_dataset_v3.py --step_size 6\n",
    "!python3 6ts_6space_conv.py #output folder -> 6ts_6space_imgs_time_aug_resnet50_models"
   ]
  },
  {
   "cell_type": "markdown",
   "metadata": {},
   "source": [
    "# Training second stage stacking models"
   ]
  },
  {
   "cell_type": "markdown",
   "metadata": {},
   "source": [
    "## CNN "
   ]
  },
  {
   "cell_type": "code",
   "execution_count": null,
   "metadata": {},
   "outputs": [],
   "source": [
    "!python3 ts_cnn.py --input_cnn_idx 0\n",
    "!python3 ts_cnn.py --input_cnn_idx 1\n",
    "!python3 ts_cnn.py --input_cnn_idx 2\n",
    "!python3 ts_cnn.py --input_cnn_idx 3\n",
    "!python3 ts_cnn.py --input_cnn_idx 4\n",
    "!python3 ts_cnn.py --input_cnn_idx 5\n",
    "!python3 ts_cnn.py --input_cnn_idx 6\n",
    "!python3 ts_cnn.py --input_cnn_idx 7\n",
    "!python3 ts_cnn.py --input_cnn_idx 8\n",
    "!python3 ts_cnn.py --input_cnn_idx 9\n",
    "!python3 ts_cnn.py --input_cnn_idx 10\n",
    "!python3 ts_cnn.py --input_cnn_idx 11\n",
    "!python3 ts_cnn.py --input_cnn_idx 12\n",
    "!python3 ts_cnn.py --input_cnn_idx 13\n",
    "!python3 ts_cnn.py --input_cnn_idx 14"
   ]
  },
  {
   "cell_type": "markdown",
   "metadata": {},
   "source": [
    "## MLP"
   ]
  },
  {
   "cell_type": "code",
   "execution_count": null,
   "metadata": {},
   "outputs": [],
   "source": [
    "!python3 mlp.py --input_cnn_idx 0\n",
    "!python3 mlp.py --input_cnn_idx 1\n",
    "!python3 mlp.py --input_cnn_idx 2\n",
    "!python3 mlp.py --input_cnn_idx 3\n",
    "!python3 mlp.py --input_cnn_idx 4\n",
    "!python3 mlp.py --input_cnn_idx 5\n",
    "!python3 mlp.py --input_cnn_idx 6\n",
    "!python3 mlp.py --input_cnn_idx 7\n",
    "!python3 mlp.py --input_cnn_idx 8\n",
    "!python3 mlp.py --input_cnn_idx 9\n",
    "!python3 mlp.py --input_cnn_idx 10\n",
    "!python3 mlp.py --input_cnn_idx 11\n",
    "!python3 mlp.py --input_cnn_idx 12\n",
    "!python3 mlp.py --input_cnn_idx 13\n",
    "!python3 mlp.py --input_cnn_idx 14"
   ]
  },
  {
   "cell_type": "markdown",
   "metadata": {},
   "source": [
    "## LSTM"
   ]
  },
  {
   "cell_type": "code",
   "execution_count": null,
   "metadata": {},
   "outputs": [],
   "source": [
    "!python3 lstm.py --input_cnn_idx 0\n",
    "!python3 lstm.py --input_cnn_idx 1\n",
    "!python3 lstm.py --input_cnn_idx 2\n",
    "!python3 lstm.py --input_cnn_idx 3\n",
    "!python3 lstm.py --input_cnn_idx 4\n",
    "!python3 lstm.py --input_cnn_idx 5\n",
    "!python3 lstm.py --input_cnn_idx 6\n",
    "!python3 lstm.py --input_cnn_idx 7\n",
    "!python3 lstm.py --input_cnn_idx 8\n",
    "!python3 lstm.py --input_cnn_idx 9\n",
    "!python3 lstm.py --input_cnn_idx 10\n",
    "!python3 lstm.py --input_cnn_idx 11\n",
    "!python3 lstm.py --input_cnn_idx 12\n",
    "!python3 lstm.py --input_cnn_idx 13\n",
    "!python3 lstm.py --input_cnn_idx 14"
   ]
  },
  {
   "cell_type": "markdown",
   "metadata": {},
   "source": [
    "## GRU"
   ]
  },
  {
   "cell_type": "code",
   "execution_count": null,
   "metadata": {},
   "outputs": [],
   "source": [
    "!python3 gru.py --input_cnn_idx 0\n",
    "!python3 gru.py --input_cnn_idx 1\n",
    "!python3 gru.py --input_cnn_idx 2\n",
    "!python3 gru.py --input_cnn_idx 3\n",
    "!python3 gru.py --input_cnn_idx 4\n",
    "!python3 gru.py --input_cnn_idx 5\n",
    "!python3 gru.py --input_cnn_idx 6\n",
    "!python3 gru.py --input_cnn_idx 7\n",
    "!python3 gru.py --input_cnn_idx 8\n",
    "!python3 gru.py --input_cnn_idx 9\n",
    "!python3 gru.py --input_cnn_idx 10\n",
    "!python3 gru.py --input_cnn_idx 11\n",
    "!python3 gru.py --input_cnn_idx 12\n",
    "!python3 gru.py --input_cnn_idx 13\n",
    "!python3 gru.py --input_cnn_idx 14"
   ]
  },
  {
   "cell_type": "markdown",
   "metadata": {},
   "source": [
    "## Transformer"
   ]
  },
  {
   "cell_type": "code",
   "execution_count": null,
   "metadata": {},
   "outputs": [],
   "source": [
    "!python3 ts_transformer.py --input_cnn_idx 0\n",
    "!python3 ts_transformer.py --input_cnn_idx 1\n",
    "!python3 ts_transformer.py --input_cnn_idx 2\n",
    "!python3 ts_transformer.py --input_cnn_idx 3\n",
    "!python3 ts_transformer.py --input_cnn_idx 4\n",
    "!python3 ts_transformer.py --input_cnn_idx 5\n",
    "!python3 ts_transformer.py --input_cnn_idx 6\n",
    "!python3 ts_transformer.py --input_cnn_idx 7\n",
    "!python3 ts_transformer.py --input_cnn_idx 8\n",
    "!python3 ts_transformer.py --input_cnn_idx 9\n",
    "!python3 ts_transformer.py --input_cnn_idx 10\n",
    "!python3 ts_transformer.py --input_cnn_idx 11\n",
    "!python3 ts_transformer.py --input_cnn_idx 12\n",
    "!python3 ts_transformer.py --input_cnn_idx 13\n",
    "!python3 ts_transformer.py --input_cnn_idx 14"
   ]
  },
  {
   "cell_type": "markdown",
   "metadata": {},
   "source": [
    "## Linear Regression"
   ]
  },
  {
   "cell_type": "code",
   "execution_count": null,
   "metadata": {},
   "outputs": [],
   "source": [
    "!python3 linear_reg.py --input_cnn_idx 0\n",
    "!python3 linear_reg.py --input_cnn_idx 1\n",
    "!python3 linear_reg.py --input_cnn_idx 2\n",
    "!python3 linear_reg.py --input_cnn_idx 3\n",
    "!python3 linear_reg.py --input_cnn_idx 4\n",
    "!python3 linear_reg.py --input_cnn_idx 5\n",
    "!python3 linear_reg.py --input_cnn_idx 6\n",
    "!python3 linear_reg.py --input_cnn_idx 7\n",
    "!python3 linear_reg.py --input_cnn_idx 8\n",
    "!python3 linear_reg.py --input_cnn_idx 9\n",
    "!python3 linear_reg.py --input_cnn_idx 10\n",
    "!python3 linear_reg.py --input_cnn_idx 11\n",
    "!python3 linear_reg.py --input_cnn_idx 12\n",
    "!python3 linear_reg.py --input_cnn_idx 13\n",
    "!python3 linear_reg.py --input_cnn_idx 14"
   ]
  },
  {
   "cell_type": "markdown",
   "metadata": {},
   "source": [
    "## Decision Tree"
   ]
  },
  {
   "cell_type": "code",
   "execution_count": null,
   "metadata": {},
   "outputs": [],
   "source": [
    "!python3 dt.py --input_cnn_idx 0\n",
    "!python3 dt.py --input_cnn_idx 1\n",
    "!python3 dt.py --input_cnn_idx 2\n",
    "!python3 dt.py --input_cnn_idx 3\n",
    "!python3 dt.py --input_cnn_idx 4\n",
    "!python3 dt.py --input_cnn_idx 5\n",
    "!python3 dt.py --input_cnn_idx 6\n",
    "!python3 dt.py --input_cnn_idx 7\n",
    "!python3 dt.py --input_cnn_idx 8\n",
    "!python3 dt.py --input_cnn_idx 9\n",
    "!python3 dt.py --input_cnn_idx 10\n",
    "!python3 dt.py --input_cnn_idx 11\n",
    "!python3 dt.py --input_cnn_idx 12\n",
    "!python3 dt.py --input_cnn_idx 13\n",
    "!python3 dt.py --input_cnn_idx 14"
   ]
  },
  {
   "cell_type": "markdown",
   "metadata": {},
   "source": [
    "## Xgboost"
   ]
  },
  {
   "cell_type": "code",
   "execution_count": null,
   "metadata": {},
   "outputs": [],
   "source": [
    "!python3 xgb_Bulldozer.py"
   ]
  },
  {
   "cell_type": "markdown",
   "metadata": {},
   "source": [
    "# Third stage model"
   ]
  },
  {
   "cell_type": "code",
   "execution_count": null,
   "metadata": {},
   "outputs": [],
   "source": [
    "!python3 es_ensemble.py"
   ]
  }
 ],
 "metadata": {
  "kernelspec": {
   "display_name": "Python 3",
   "language": "python",
   "name": "python3"
  },
  "language_info": {
   "codemirror_mode": {
    "name": "ipython",
    "version": 3
   },
   "file_extension": ".py",
   "mimetype": "text/x-python",
   "name": "python",
   "nbconvert_exporter": "python",
   "pygments_lexer": "ipython3",
   "version": "3.6.9"
  }
 },
 "nbformat": 4,
 "nbformat_minor": 4
}
