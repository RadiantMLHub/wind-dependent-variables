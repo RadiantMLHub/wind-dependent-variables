{
 "cells": [
  {
   "cell_type": "code",
   "execution_count": 1,
   "metadata": {},
   "outputs": [],
   "source": [
    "import numpy as np\n",
    "import pandas as pd"
   ]
  },
  {
   "cell_type": "code",
   "execution_count": 2,
   "metadata": {},
   "outputs": [],
   "source": [
    "experiment_df = pd.read_csv('experiment_database.csv')"
   ]
  },
  {
   "cell_type": "code",
   "execution_count": 3,
   "metadata": {},
   "outputs": [
    {
     "name": "stdout",
     "output_type": "stream",
     "text": [
      "(54, 32)\n"
     ]
    }
   ],
   "source": [
    "print(experiment_df.shape)"
   ]
  },
  {
   "cell_type": "code",
   "execution_count": 4,
   "metadata": {},
   "outputs": [
    {
     "data": {
      "text/plain": [
       "experiment_id                          run-20210121-1931\n",
       "LB_private                                        6.6325\n",
       "LB_public                                         7.0552\n",
       "CV_70k_tta9                                       7.0791\n",
       "CV_70k                                             7.152\n",
       "CV_14k_f0                                         7.2975\n",
       "CV_14k_f1                                         7.4761\n",
       "CV_14k_f2                                         6.7766\n",
       "CV_14k_f3                                         7.2721\n",
       "CV_14k_f4                                         6.8794\n",
       "n_epochs_f0                                           15\n",
       "n_epochs_f1                                            9\n",
       "n_epochs_f2                                           14\n",
       "n_epochs_f3                                           14\n",
       "n_epochs_f4                                           15\n",
       "ensemble_id                                     ens_both\n",
       "task                                                regr\n",
       "architecture                                    cnn-lstm\n",
       "image_resolution                                     366\n",
       "image_n_channels                                       3\n",
       "image_inverted                                       yes\n",
       "n_frames                                              24\n",
       "step                                                   1\n",
       "historical_depth                                      24\n",
       "backbone                                 EfficientNet-B3\n",
       "backbone_weights                                imagenet\n",
       "batch_size                                            64\n",
       "learning_rate                                     0.0001\n",
       "max_n_epochs                                          15\n",
       "aug_number                                             9\n",
       "tta_number                                             9\n",
       "experiment_description    Researching different backbone\n",
       "Name: 25, dtype: object"
      ]
     },
     "execution_count": 4,
     "metadata": {},
     "output_type": "execute_result"
    }
   ],
   "source": [
    "# `experiment_id` is a unique identifier corresponding \n",
    "# to the directory name where code, weights, and predictions are located\n",
    "experiment_df.iloc[25]"
   ]
  },
  {
   "cell_type": "code",
   "execution_count": 5,
   "metadata": {},
   "outputs": [
    {
     "data": {
      "text/plain": [
       "cnn-lstm          26\n",
       "cnn-3ch-ind       16\n",
       "cnn-3ch-mean       3\n",
       "cnn-trans          3\n",
       "cnn-1ch            2\n",
       "cnn-conv3d         2\n",
       "cnn-convlstm2d     2\n",
       "Name: architecture, dtype: int64"
      ]
     },
     "execution_count": 5,
     "metadata": {},
     "output_type": "execute_result"
    }
   ],
   "source": [
    "# Look at all architectures\n",
    "experiment_df['architecture'].value_counts()"
   ]
  },
  {
   "cell_type": "code",
   "execution_count": 6,
   "metadata": {},
   "outputs": [
    {
     "data": {
      "text/html": [
       "<div>\n",
       "<style scoped>\n",
       "    .dataframe tbody tr th:only-of-type {\n",
       "        vertical-align: middle;\n",
       "    }\n",
       "\n",
       "    .dataframe tbody tr th {\n",
       "        vertical-align: top;\n",
       "    }\n",
       "\n",
       "    .dataframe thead th {\n",
       "        text-align: right;\n",
       "    }\n",
       "</style>\n",
       "<table border=\"1\" class=\"dataframe\">\n",
       "  <thead>\n",
       "    <tr style=\"text-align: right;\">\n",
       "      <th></th>\n",
       "      <th>CV_70k</th>\n",
       "      <th>architecture</th>\n",
       "      <th>historical_depth</th>\n",
       "    </tr>\n",
       "  </thead>\n",
       "  <tbody>\n",
       "    <tr>\n",
       "      <th>35</th>\n",
       "      <td>7.0690</td>\n",
       "      <td>cnn-lstm</td>\n",
       "      <td>24</td>\n",
       "    </tr>\n",
       "    <tr>\n",
       "      <th>46</th>\n",
       "      <td>7.0699</td>\n",
       "      <td>cnn-lstm</td>\n",
       "      <td>60</td>\n",
       "    </tr>\n",
       "    <tr>\n",
       "      <th>34</th>\n",
       "      <td>7.0874</td>\n",
       "      <td>cnn-lstm</td>\n",
       "      <td>60</td>\n",
       "    </tr>\n",
       "    <tr>\n",
       "      <th>49</th>\n",
       "      <td>7.0912</td>\n",
       "      <td>cnn-lstm</td>\n",
       "      <td>48</td>\n",
       "    </tr>\n",
       "    <tr>\n",
       "      <th>29</th>\n",
       "      <td>7.1493</td>\n",
       "      <td>cnn-lstm</td>\n",
       "      <td>24</td>\n",
       "    </tr>\n",
       "    <tr>\n",
       "      <th>25</th>\n",
       "      <td>7.1520</td>\n",
       "      <td>cnn-lstm</td>\n",
       "      <td>24</td>\n",
       "    </tr>\n",
       "    <tr>\n",
       "      <th>38</th>\n",
       "      <td>7.1537</td>\n",
       "      <td>cnn-lstm</td>\n",
       "      <td>27</td>\n",
       "    </tr>\n",
       "    <tr>\n",
       "      <th>53</th>\n",
       "      <td>7.1571</td>\n",
       "      <td>cnn-lstm</td>\n",
       "      <td>24</td>\n",
       "    </tr>\n",
       "    <tr>\n",
       "      <th>51</th>\n",
       "      <td>7.1619</td>\n",
       "      <td>cnn-convlstm2d</td>\n",
       "      <td>24</td>\n",
       "    </tr>\n",
       "    <tr>\n",
       "      <th>27</th>\n",
       "      <td>7.1629</td>\n",
       "      <td>cnn-lstm</td>\n",
       "      <td>48</td>\n",
       "    </tr>\n",
       "  </tbody>\n",
       "</table>\n",
       "</div>"
      ],
      "text/plain": [
       "    CV_70k    architecture  historical_depth\n",
       "35  7.0690        cnn-lstm                24\n",
       "46  7.0699        cnn-lstm                60\n",
       "34  7.0874        cnn-lstm                60\n",
       "49  7.0912        cnn-lstm                48\n",
       "29  7.1493        cnn-lstm                24\n",
       "25  7.1520        cnn-lstm                24\n",
       "38  7.1537        cnn-lstm                27\n",
       "53  7.1571        cnn-lstm                24\n",
       "51  7.1619  cnn-convlstm2d                24\n",
       "27  7.1629        cnn-lstm                48"
      ]
     },
     "execution_count": 6,
     "metadata": {},
     "output_type": "execute_result"
    }
   ],
   "source": [
    "# What are architectures and historical depth of the best 10 models (based on local CV without TTA)\n",
    "experiment_df.sort_values('CV_70k')[['CV_70k', 'architecture', 'historical_depth']][:10]"
   ]
  },
  {
   "cell_type": "code",
   "execution_count": 7,
   "metadata": {},
   "outputs": [
    {
     "data": {
      "text/html": [
       "<div>\n",
       "<style scoped>\n",
       "    .dataframe tbody tr th:only-of-type {\n",
       "        vertical-align: middle;\n",
       "    }\n",
       "\n",
       "    .dataframe tbody tr th {\n",
       "        vertical-align: top;\n",
       "    }\n",
       "\n",
       "    .dataframe thead th {\n",
       "        text-align: right;\n",
       "    }\n",
       "</style>\n",
       "<table border=\"1\" class=\"dataframe\">\n",
       "  <thead>\n",
       "    <tr style=\"text-align: right;\">\n",
       "      <th></th>\n",
       "      <th>architecture</th>\n",
       "      <th>historical_depth</th>\n",
       "    </tr>\n",
       "  </thead>\n",
       "  <tbody>\n",
       "    <tr>\n",
       "      <th>28</th>\n",
       "      <td>cnn-lstm</td>\n",
       "      <td>96</td>\n",
       "    </tr>\n",
       "    <tr>\n",
       "      <th>34</th>\n",
       "      <td>cnn-lstm</td>\n",
       "      <td>60</td>\n",
       "    </tr>\n",
       "    <tr>\n",
       "      <th>46</th>\n",
       "      <td>cnn-lstm</td>\n",
       "      <td>60</td>\n",
       "    </tr>\n",
       "    <tr>\n",
       "      <th>49</th>\n",
       "      <td>cnn-lstm</td>\n",
       "      <td>48</td>\n",
       "    </tr>\n",
       "    <tr>\n",
       "      <th>27</th>\n",
       "      <td>cnn-lstm</td>\n",
       "      <td>48</td>\n",
       "    </tr>\n",
       "    <tr>\n",
       "      <th>6</th>\n",
       "      <td>cnn-3ch-mean</td>\n",
       "      <td>45</td>\n",
       "    </tr>\n",
       "    <tr>\n",
       "      <th>33</th>\n",
       "      <td>cnn-lstm</td>\n",
       "      <td>36</td>\n",
       "    </tr>\n",
       "    <tr>\n",
       "      <th>2</th>\n",
       "      <td>cnn-3ch-ind</td>\n",
       "      <td>31</td>\n",
       "    </tr>\n",
       "    <tr>\n",
       "      <th>5</th>\n",
       "      <td>cnn-3ch-mean</td>\n",
       "      <td>30</td>\n",
       "    </tr>\n",
       "    <tr>\n",
       "      <th>38</th>\n",
       "      <td>cnn-lstm</td>\n",
       "      <td>27</td>\n",
       "    </tr>\n",
       "  </tbody>\n",
       "</table>\n",
       "</div>"
      ],
      "text/plain": [
       "    architecture  historical_depth\n",
       "28      cnn-lstm                96\n",
       "34      cnn-lstm                60\n",
       "46      cnn-lstm                60\n",
       "49      cnn-lstm                48\n",
       "27      cnn-lstm                48\n",
       "6   cnn-3ch-mean                45\n",
       "33      cnn-lstm                36\n",
       "2    cnn-3ch-ind                31\n",
       "5   cnn-3ch-mean                30\n",
       "38      cnn-lstm                27"
      ]
     },
     "execution_count": 7,
     "metadata": {},
     "output_type": "execute_result"
    }
   ],
   "source": [
    "# What is the maximum historical depth used\n",
    "experiment_df.sort_values('historical_depth', ascending=False)[['architecture', 'historical_depth']][:10]"
   ]
  },
  {
   "cell_type": "code",
   "execution_count": 8,
   "metadata": {},
   "outputs": [
    {
     "data": {
      "text/plain": [
       "ens_51_only    32\n",
       "ens_both       19\n",
       "ens_22_only     3\n",
       "Name: ensemble_id, dtype: int64"
      ]
     },
     "execution_count": 8,
     "metadata": {},
     "output_type": "execute_result"
    }
   ],
   "source": [
    "# What are components of ensembles\n",
    "# Ensemble of 22 models has only 3 models which were not included in ensemble of 51 models\n",
    "experiment_df['ensemble_id'].value_counts()"
   ]
  },
  {
   "cell_type": "code",
   "execution_count": 9,
   "metadata": {},
   "outputs": [
    {
     "data": {
      "text/plain": [
       "['C3D',\n",
       " 'DenseNet121',\n",
       " 'EfficientNet-B0',\n",
       " 'EfficientNet-B3',\n",
       " 'EfficientNet-B7',\n",
       " 'InceptionResNetV2',\n",
       " 'InceptionV3',\n",
       " 'ResNet101',\n",
       " 'ResNet152',\n",
       " 'ResNet50',\n",
       " 'ResNet50V2',\n",
       " 'ResNet50_3D',\n",
       " 'SEResNet50',\n",
       " 'ViT-B16',\n",
       " 'ViT-L16',\n",
       " 'ViT-L32',\n",
       " 'Xception']"
      ]
     },
     "execution_count": 9,
     "metadata": {},
     "output_type": "execute_result"
    }
   ],
   "source": [
    "# Wahat are backbones used\n",
    "sorted(list(experiment_df['backbone'].unique()))"
   ]
  },
  {
   "cell_type": "code",
   "execution_count": null,
   "metadata": {},
   "outputs": [],
   "source": []
  }
 ],
 "metadata": {
  "kernelspec": {
   "display_name": "Python 3",
   "language": "python",
   "name": "python3"
  },
  "language_info": {
   "codemirror_mode": {
    "name": "ipython",
    "version": 3
   },
   "file_extension": ".py",
   "mimetype": "text/x-python",
   "name": "python",
   "nbconvert_exporter": "python",
   "pygments_lexer": "ipython3",
   "version": "3.6.9"
  }
 },
 "nbformat": 4,
 "nbformat_minor": 4
}
